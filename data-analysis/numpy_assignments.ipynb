{
  "nbformat": 4,
  "nbformat_minor": 0,
  "metadata": {
    "colab": {
      "provenance": []
    },
    "kernelspec": {
      "name": "python3",
      "display_name": "Python 3"
    },
    "language_info": {
      "name": "python"
    }
  },
  "cells": [
    {
      "cell_type": "markdown",
      "source": [
        "## NumPy Assignments Notebook\n",
        "This repository contains practical assignments designed to build a strong foundation in NumPy, a fundamental Python library for numerical computing.\n",
        "Each assignment covers essential NumPy operations with **clear use cases** that align with real-world data processing and analysis tasks.\n",
        "\n",
        "---\n",
        "# Overview of Assignments and Use Cases\n",
        "\n",
        "##1. Array Creation and Manipulation\n",
        "Create and modify arrays with random or sequential data.\n",
        "\n",
        "Use Case: Initializing datasets or matrices and updating specific rows or columns for data cleaning or feature engineering.\n",
        "\n",
        "##2. Array Indexing and Slicing\n",
        "Extract sub-arrays or specific sections using slicing techniques.\n",
        "\n",
        "Use Case: Cropping images, selecting data subsets, or isolating features for focused analysis.\n",
        "\n",
        "##3. Array Operations\n",
        "Perform element-wise arithmetic operations and compute row/column-wise aggregates.\n",
        "\n",
        "Use Case: Quick vectorized calculations like combining datasets, calculating totals, or preparing data for machine learning.\n",
        "\n",
        "##4. Statistical Operations\n",
        "Calculate mean, median, variance, and standard deviation, and normalize data arrays.\n",
        "\n",
        "Use Case: Data summarization, feature scaling, and preparation for statistical modeling.\n",
        "\n",
        "##5. Broadcasting\n",
        "Apply operations between arrays of different shapes efficiently.\n",
        "\n",
        "Use Case: Add or subtract vectors from matrices for batch data transformations without explicit loops.\n",
        "\n",
        "##6. Linear Algebra\n",
        "Compute determinants, inverses, eigenvalues, and perform matrix multiplication.\n",
        "\n",
        "Use Case: Solving systems of equations, data transformations, and principal component analysis.\n",
        "\n",
        "##7. Advanced Array Manipulation\n",
        "Reshape and flatten arrays to adapt data structure for different processing needs.\n",
        "\n",
        "Use Case: Preparing image data for neural networks or flattening multi-dimensional data for modeling.\n",
        "\n",
        "##8. Fancy and Boolean Indexing\n",
        "Extract elements using specific indices or conditional logic.\n",
        "\n",
        "Use Case: Select special elements like corners or cap values based on thresholds for data cleaning.\n",
        "\n",
        "##9. Structured Arrays\n",
        "Work with arrays containing mixed data types and sort or compute distances.\n",
        "\n",
        "Use Case: Manage tabular data with heterogeneous columns or perform spatial calculations.\n",
        "\n",
        "##10. Masked Arrays\n",
        "Handle arrays with invalid or missing data by masking elements.\n",
        "\n",
        "Use Case: Ignore outliers or missing data during calculations without deleting entire datasets.\n",
        "\n",
        "---\n",
        "Each assignment contains clear examples and code demonstrations to help master Numpy for real-world data tasks."
      ],
      "metadata": {
        "id": "jqSexBON4R4f"
      }
    },
    {
      "cell_type": "markdown",
      "source": [
        "##Assignment 1: Array Creation and Manipulation\n",
        "####Assignment 1.1\n",
        "**Create** a NumPy array of shape (5, 5) filled with **random integers** between 1 and 20. Replace all elements in the third column with 1.\n",
        "\n",
        "---\n",
        "**E (Engineering Intuition):**\n",
        "- Use `np.random.randint` to generate the initial array.\n",
        "- Use slicing to select the third column `array[:, 2]` (all rows, column index 2).\n",
        "- Assign 1 to all selected elements.\n",
        "\n",
        "**L (Lifecycle Use Case):**\n",
        "- **Data preprocessing**: replacing or masking a specific feature column in a dataset.\n",
        "- **Quick edits** in matrices or grids.\n",
        "\n",
        "**L (Limitations & Strategy)**:\n",
        "- Ensure correct column index (Python indexing starts at 0)."
      ],
      "metadata": {
        "id": "PaK8JOIa8c-w"
      }
    },
    {
      "cell_type": "code",
      "source": [
        "import numpy as np\n",
        "# Create random array\n",
        "array = np.random.randint(1, 21, size=(5, 5))\n",
        "print(\"Original array:\")\n",
        "print(array)\n",
        "\n",
        "# Replace 3rd column with 1\n",
        "array[:, 2] = 1\n",
        "print(\"\\nModified array (third column set to 1):\")\n",
        "print(array)\n"
      ],
      "metadata": {
        "colab": {
          "base_uri": "https://localhost:8080/"
        },
        "id": "AXP1BVH46XBe",
        "outputId": "18ba8060-2cb7-4a94-c315-6f2aabb37413"
      },
      "execution_count": 2,
      "outputs": [
        {
          "output_type": "stream",
          "name": "stdout",
          "text": [
            "Original array:\n",
            "[[17 12 19  7  2]\n",
            " [ 3 20  5 14 18]\n",
            " [ 2  1 13  8  2]\n",
            " [ 7 17 15 13 19]\n",
            " [10 19  8  5 19]]\n",
            "\n",
            "Modified array (third column set to 1):\n",
            "[[17 12  1  7  2]\n",
            " [ 3 20  1 14 18]\n",
            " [ 2  1  1  8  2]\n",
            " [ 7 17  1 13 19]\n",
            " [10 19  1  5 19]]\n"
          ]
        }
      ]
    },
    {
      "cell_type": "markdown",
      "source": [
        "###Assignment 1.2:\n",
        "**Create a NumPy array** of shape (4, 4) with values from 1 to 16.\n",
        "**Replace the diagonal elements** with 0.\n",
        "\n",
        "---\n",
        "E:\n",
        "- Use `np.arange` and `reshape` to create a sequential matrix.\n",
        "- Use `np.fill_diagonal` to modify diagonal elements.\n",
        "\n",
        "L:\n",
        "- Masking or nullifying diagonal in covariance or adjacency matrices.\n",
        "- Clearing values for specific positional masking.\n",
        "\n",
        "L:\n",
        "- Works only on square matrices.\n",
        "\n",
        "\n",
        "\n"
      ],
      "metadata": {
        "id": "Ngr01582-rEL"
      }
    },
    {
      "cell_type": "code",
      "source": [
        "array = np.arange(1, 17).reshape((4, 4))\n",
        "print(\"Original array:\")\n",
        "print(array)\n",
        "\n",
        "np.fill_diagonal(array, 0)\n",
        "print(\"\\nModified array (diagonal set to 0):\")\n",
        "print(array)\n"
      ],
      "metadata": {
        "colab": {
          "base_uri": "https://localhost:8080/"
        },
        "id": "ccRT480T6Xyr",
        "outputId": "cef4d711-0b88-435d-d7ba-53198916f99b"
      },
      "execution_count": 4,
      "outputs": [
        {
          "output_type": "stream",
          "name": "stdout",
          "text": [
            "Original array:\n",
            "[[ 1  2  3  4]\n",
            " [ 5  6  7  8]\n",
            " [ 9 10 11 12]\n",
            " [13 14 15 16]]\n",
            "\n",
            "Modified array (diagonal set to 0):\n",
            "[[ 0  2  3  4]\n",
            " [ 5  0  7  8]\n",
            " [ 9 10  0 12]\n",
            " [13 14 15  0]]\n"
          ]
        }
      ]
    },
    {
      "cell_type": "markdown",
      "source": [
        "##Assignment 2.1: Array Indexing and Slicing\n",
        "Extract sub-array from (6, 6) array rows 3-5 and cols 2-4\n",
        "\n",
        "---\n",
        "C: Selecting a **sub-table or slice from a big grid** — extracting a small window.\n",
        "\n",
        "E: Use `slicing array[2:5, 1:4]` (Python indexing: rows 2 to 4 inclusive, cols 1 to 3 inclusive).\n",
        "\n",
        "L: Useful for cropping images or **selecting features**.\n",
        "\n",
        "L: **Slicing creates a view**, not copy. **Modifications affect original.**"
      ],
      "metadata": {
        "id": "tN57Ce1a-txc"
      }
    },
    {
      "cell_type": "code",
      "source": [
        "array = np.arange(1, 37).reshape((6, 6))\n",
        "print(\"Original array:\")\n",
        "print(array)\n",
        "\n",
        "sub_array = array[2:5, 1:4]\n",
        "print(\"\\nSub-array (rows 3-5, cols 2-4):\")\n",
        "print(sub_array)\n"
      ],
      "metadata": {
        "colab": {
          "base_uri": "https://localhost:8080/"
        },
        "id": "uESEUnHc6X4Q",
        "outputId": "c2ac9bfe-f76f-4527-99cf-e04a6b6bb590"
      },
      "execution_count": 5,
      "outputs": [
        {
          "output_type": "stream",
          "name": "stdout",
          "text": [
            "Original array:\n",
            "[[ 1  2  3  4  5  6]\n",
            " [ 7  8  9 10 11 12]\n",
            " [13 14 15 16 17 18]\n",
            " [19 20 21 22 23 24]\n",
            " [25 26 27 28 29 30]\n",
            " [31 32 33 34 35 36]]\n",
            "\n",
            "Sub-array (rows 3-5, cols 2-4):\n",
            "[[14 15 16]\n",
            " [20 21 22]\n",
            " [26 27 28]]\n"
          ]
        }
      ]
    },
    {
      "cell_type": "markdown",
      "source": [
        "## Assignment 2.2: Extract border elements\n",
        "\n",
        "C: Imagine peeling the outermost layer of a grid — all edge elements.\n",
        "\n",
        "E: Combine top row, bottom row, left column (excluding corners already taken), and right column.\n",
        "\n",
        "L: **Border extraction in image processing or matrix boundary checks**.\n",
        "\n",
        "L: Careful to avoid duplicating corners when concatenating.\n"
      ],
      "metadata": {
        "id": "B1ewdEUQBUzA"
      }
    },
    {
      "cell_type": "code",
      "source": [
        "array = np.random.randint(1, 21, size=(5, 5))\n",
        "print(\"Original array:\")\n",
        "print(array)\n",
        "\n",
        "border_elements = np.concatenate((\n",
        "    array[0, :],          # top row\n",
        "    array[-1, :],         # bottom row\n",
        "    array[1:-1, 0],       # left column middle rows\n",
        "    array[1:-1, -1]       # right column middle rows\n",
        "))\n",
        "print(\"\\nBorder elements:\")\n",
        "print(border_elements)\n"
      ],
      "metadata": {
        "colab": {
          "base_uri": "https://localhost:8080/"
        },
        "id": "dgCnKuedCfZs",
        "outputId": "515d5b1d-0600-48f1-850c-bb9821931763"
      },
      "execution_count": 6,
      "outputs": [
        {
          "output_type": "stream",
          "name": "stdout",
          "text": [
            "Original array:\n",
            "[[19  1 16 10 13]\n",
            " [ 7  7 19 16 12]\n",
            " [ 3 12 13  9  8]\n",
            " [16  8 14  7 14]\n",
            " [20  1  9 12 20]]\n",
            "\n",
            "Border elements:\n",
            "[19  1 16 10 13 20  1  9 12 20  7  3 16 12  8 14]\n"
          ]
        }
      ]
    },
    {
      "cell_type": "markdown",
      "source": [
        "## Assignment 3.1: Element-wise operations between two arrays\n",
        "C: **adding or multiplying** two grids cell-by-cell.\n",
        "\n",
        "E: Use +, -, *, / operators for element-wise operations on same shape arrays.\n",
        "\n",
        "L: Used in **vectorized calculations in ML** or numerical simulations.\n",
        "\n",
        "L: **Division can cause errors if denominator has zero**."
      ],
      "metadata": {
        "id": "pL_vXAboCgsk"
      }
    },
    {
      "cell_type": "code",
      "source": [
        "array1 = np.random.randint(1, 11, size=(3, 4))\n",
        "array2 = np.random.randint(1, 11, size=(3, 4))\n",
        "print(\"Array 1:\")\n",
        "print(array1)\n",
        "print(\"Array 2:\")\n",
        "print(array2)\n",
        "\n",
        "print(\"\\nAddition:\")\n",
        "print(array1 + array2)\n",
        "print(\"Subtraction:\")\n",
        "print(array1 - array2)\n",
        "print(\"Multiplication:\")\n",
        "print(array1 * array2)\n",
        "print(\"Division:\")\n",
        "print(array1 / array2)\n"
      ],
      "metadata": {
        "colab": {
          "base_uri": "https://localhost:8080/"
        },
        "id": "p-SWqtVFChOe",
        "outputId": "deb434b0-badd-47e9-b55e-d52100a5a742"
      },
      "execution_count": 7,
      "outputs": [
        {
          "output_type": "stream",
          "name": "stdout",
          "text": [
            "Array 1:\n",
            "[[ 9 10  2  1]\n",
            " [ 1  1  5  1]\n",
            " [ 7  1  9 10]]\n",
            "Array 2:\n",
            "[[ 2  6  5  6]\n",
            " [ 1  3  3  6]\n",
            " [ 3  1  1 10]]\n",
            "\n",
            "Addition:\n",
            "[[11 16  7  7]\n",
            " [ 2  4  8  7]\n",
            " [10  2 10 20]]\n",
            "Subtraction:\n",
            "[[ 7  4 -3 -5]\n",
            " [ 0 -2  2 -5]\n",
            " [ 4  0  8  0]]\n",
            "Multiplication:\n",
            "[[ 18  60  10   6]\n",
            " [  1   3  15   6]\n",
            " [ 21   1   9 100]]\n",
            "Division:\n",
            "[[4.5        1.66666667 0.4        0.16666667]\n",
            " [1.         0.33333333 1.66666667 0.16666667]\n",
            " [2.33333333 1.         9.         1.        ]]\n"
          ]
        }
      ]
    },
    {
      "cell_type": "markdown",
      "source": [
        "## Assignment 3.2: Row-wise and column-wise sum\n",
        "C: Summing all values in rows or columns like summarizing each feature or sample.\n",
        "\n",
        "E: Use `np.sum(array, axis=1)` for rows,`axis=0` for columns.\n",
        "\n",
        "L: Common for **aggregating data statistics**.\n",
        "\n",
        "L: **Summation reduces dimensionality**.\n"
      ],
      "metadata": {
        "id": "aTfmV7JDCh_s"
      }
    },
    {
      "cell_type": "code",
      "source": [
        "array = np.arange(1, 17).reshape((4, 4))\n",
        "print(\"Original array:\")\n",
        "print(array)\n",
        "\n",
        "row_sum = np.sum(array, axis=1)\n",
        "column_sum = np.sum(array, axis=0)\n",
        "\n",
        "print(\"\\nRow-wise sum:\")\n",
        "print(row_sum)\n",
        "print(\"Column-wise sum:\")\n",
        "print(column_sum)\n"
      ],
      "metadata": {
        "colab": {
          "base_uri": "https://localhost:8080/"
        },
        "id": "a81oOnJ2Cidk",
        "outputId": "f63e9abc-8458-4fa1-825b-b4215a298558"
      },
      "execution_count": 8,
      "outputs": [
        {
          "output_type": "stream",
          "name": "stdout",
          "text": [
            "Original array:\n",
            "[[ 1  2  3  4]\n",
            " [ 5  6  7  8]\n",
            " [ 9 10 11 12]\n",
            " [13 14 15 16]]\n",
            "\n",
            "Row-wise sum:\n",
            "[10 26 42 58]\n",
            "Column-wise sum:\n",
            "[28 32 36 40]\n"
          ]
        }
      ]
    },
    {
      "cell_type": "markdown",
      "source": [
        "##Assignment 4.1: Statistical operations\n",
        "C: Calculate key statistics (mean, median, std, var) summarizing data spread and center.\n",
        "\n",
        "E: Use `np.mean`, `np.median`, `np.std`, `np.var`.\n",
        "\n",
        "L: Used in **data analysis** for feature scaling, outlier detection.\n",
        "\n",
        "L: Can be influenced by **outliers**."
      ],
      "metadata": {
        "id": "WBrWlhJvCkaY"
      }
    },
    {
      "cell_type": "code",
      "source": [
        "array = np.random.randint(1, 21, size=(5, 5))\n",
        "print(\"Original array:\")\n",
        "print(array)\n",
        "\n",
        "print(\"\\nMean:\", np.mean(array))\n",
        "print(\"Median:\", np.median(array))\n",
        "print(\"Standard Deviation:\", np.std(array))\n",
        "print(\"Variance:\", np.var(array))\n"
      ],
      "metadata": {
        "colab": {
          "base_uri": "https://localhost:8080/"
        },
        "id": "1iVCPkgpCk69",
        "outputId": "8fe02c23-6916-4bd6-cf3f-62119f851c6b"
      },
      "execution_count": 9,
      "outputs": [
        {
          "output_type": "stream",
          "name": "stdout",
          "text": [
            "Original array:\n",
            "[[ 6 19  5  2 12]\n",
            " [10 11 13 14 10]\n",
            " [10  2 11  7  4]\n",
            " [ 1  9 20 15 20]\n",
            " [12  5  5  7 20]]\n",
            "\n",
            "Mean: 10.0\n",
            "Median: 10.0\n",
            "Standard Deviation: 5.642694391866354\n",
            "Variance: 31.84\n"
          ]
        }
      ]
    },
    {
      "cell_type": "markdown",
      "source": [
        "### Assignment 4.2: Normalize array\n",
        "C: Shift data so it has mean=0, std=1 (standardization).\n",
        "\n",
        "E: `(array - mean) / std_dev`\n",
        "\n",
        "L: Preprocessing for **ML algorithms sensitive to scale.**\n",
        "\n",
        "L: Assumes **normal-like distribution**."
      ],
      "metadata": {
        "id": "o7-D2plZClkG"
      }
    },
    {
      "cell_type": "code",
      "source": [
        "array = np.arange(1, 10).reshape((3, 3))\n",
        "print(\"Original array:\")\n",
        "print(array)\n",
        "\n",
        "mean = np.mean(array)\n",
        "std_dev = np.std(array)\n",
        "normalized_array = (array - mean) / std_dev\n",
        "\n",
        "print(\"\\nNormalized array:\")\n",
        "print(normalized_array)\n"
      ],
      "metadata": {
        "colab": {
          "base_uri": "https://localhost:8080/"
        },
        "id": "uazZPKyzFaCn",
        "outputId": "7591d760-6773-4a7e-ca13-133e3ee6e65a"
      },
      "execution_count": 10,
      "outputs": [
        {
          "output_type": "stream",
          "name": "stdout",
          "text": [
            "Original array:\n",
            "[[1 2 3]\n",
            " [4 5 6]\n",
            " [7 8 9]]\n",
            "\n",
            "Normalized array:\n",
            "[[-1.54919334 -1.161895   -0.77459667]\n",
            " [-0.38729833  0.          0.38729833]\n",
            " [ 0.77459667  1.161895    1.54919334]]\n"
          ]
        }
      ]
    },
    {
      "cell_type": "markdown",
      "source": [
        "###Assignment 5.1: Broadcasting - add 1D array to each row of 2D array\n",
        "C:**Add a vector** to each row of a matrix without explicit loop.\n",
        "\n",
        "E: NumPy broadcasts smaller array along matching dimensions.\n",
        "\n",
        "L: Enables concise, efficient vectorized code.\n",
        "\n",
        "L: Shapes must be compatible for broadcasting."
      ],
      "metadata": {
        "id": "dsg3MO-aFaZ0"
      }
    },
    {
      "cell_type": "code",
      "source": [
        "array = np.random.randint(1, 11, size=(3, 3))\n",
        "row_array = np.random.randint(1, 11, size=(3,))\n",
        "print(\"Original array:\")\n",
        "print(array)\n",
        "print(\"1D array:\")\n",
        "print(row_array)\n",
        "\n",
        "result = array + row_array  # Broadcast row_array to rows\n",
        "print(\"\\nResulting array:\")\n",
        "print(result)\n"
      ],
      "metadata": {
        "colab": {
          "base_uri": "https://localhost:8080/"
        },
        "id": "dFBKJg6cFa1U",
        "outputId": "4be39002-d0a0-4b05-ac57-78a89087b617"
      },
      "execution_count": 11,
      "outputs": [
        {
          "output_type": "stream",
          "name": "stdout",
          "text": [
            "Original array:\n",
            "[[ 7  7  6]\n",
            " [ 1  5 10]\n",
            " [ 6  8 10]]\n",
            "1D array:\n",
            "[ 1  8 10]\n",
            "\n",
            "Resulting array:\n",
            "[[ 8 15 16]\n",
            " [ 2 13 20]\n",
            " [ 7 16 20]]\n"
          ]
        }
      ]
    },
    {
      "cell_type": "markdown",
      "source": [
        "###Assignment 5.2: Broadcasting - subtract 1D array from each column\n",
        "C: Subtract a vector from each column by broadcasting.\n",
        "\n",
        "E: Use `column_array[:, np.newaxis]` to reshape for broadcasting.\n",
        "\n",
        "L: Useful in **column-wise feature normalization**.\n",
        "\n",
        "L: Must **reshape correctly to avoid errors**."
      ],
      "metadata": {
        "id": "eL4WqoezFbTN"
      }
    },
    {
      "cell_type": "code",
      "source": [
        "array = np.random.randint(1, 11, size=(4, 4))\n",
        "column_array = np.random.randint(1, 11, size=(4,))\n",
        "print(\"Original array:\")\n",
        "print(array)\n",
        "print(\"1D array:\")\n",
        "print(column_array)\n",
        "\n",
        "result = array - column_array[:, np.newaxis]\n",
        "print(\"\\nResulting array:\")\n",
        "print(result)\n"
      ],
      "metadata": {
        "colab": {
          "base_uri": "https://localhost:8080/"
        },
        "id": "TRs3_MmAFb-1",
        "outputId": "582c6fb1-1a8d-40b4-ae0a-92c87b97457d"
      },
      "execution_count": 12,
      "outputs": [
        {
          "output_type": "stream",
          "name": "stdout",
          "text": [
            "Original array:\n",
            "[[10  6  9  7]\n",
            " [ 3  3  8  5]\n",
            " [ 8 10  4  1]\n",
            " [ 3  4  2  8]]\n",
            "1D array:\n",
            "[1 4 3 1]\n",
            "\n",
            "Resulting array:\n",
            "[[ 9  5  8  6]\n",
            " [-1 -1  4  1]\n",
            " [ 5  7  1 -2]\n",
            " [ 2  3  1  7]]\n"
          ]
        }
      ]
    },
    {
      "cell_type": "markdown",
      "source": [
        "###Assignment 6.1: Linear algebra - determinant, inverse, eigenvalues\n",
        "C: Compute matrix properties: determinant (scale factor), inverse (undo matrix), eigenvalues (inherent modes).\n",
        "\n",
        "E: Use `np.linalg.det`, `np.linalg.inv`, `np.linalg.eigvals`.\n",
        "\n",
        "L: Important for **solving linear systems, stability analysis**.\n",
        "\n",
        "L: **Inverse exists only if determinant ≠ 0**."
      ],
      "metadata": {
        "id": "l_HkA5UWFc98"
      }
    },
    {
      "cell_type": "code",
      "source": [
        "matrix = np.random.randint(1, 11, size=(3, 3))\n",
        "print(\"Original matrix:\")\n",
        "print(matrix)\n",
        "\n",
        "determinant = np.linalg.det(matrix)\n",
        "print(\"\\nDeterminant:\", determinant)\n",
        "\n",
        "if determinant != 0:\n",
        "    inverse = np.linalg.inv(matrix)\n",
        "    print(\"Inverse:\")\n",
        "    print(inverse)\n",
        "else:\n",
        "    print(\"Matrix is singular and cannot be inverted.\")\n",
        "\n",
        "eigenvalues = np.linalg.eigvals(matrix)\n",
        "print(\"Eigenvalues:\")\n",
        "print(eigenvalues)\n"
      ],
      "metadata": {
        "colab": {
          "base_uri": "https://localhost:8080/"
        },
        "id": "DPVqYcp6FdVf",
        "outputId": "003a17f9-689f-4f47-cf60-6bafc0c2ba03"
      },
      "execution_count": 13,
      "outputs": [
        {
          "output_type": "stream",
          "name": "stdout",
          "text": [
            "Original matrix:\n",
            "[[ 5  4 10]\n",
            " [10 10  8]\n",
            " [ 9  6  2]]\n",
            "\n",
            "Determinant: -232.0000000000002\n",
            "Inverse:\n",
            "[[ 0.12068966 -0.22413793  0.29310345]\n",
            " [-0.22413793  0.34482759 -0.25862069]\n",
            " [ 0.12931034 -0.02586207 -0.04310345]]\n",
            "Eigenvalues:\n",
            "[21.1200304  -5.96238567  1.84235527]\n"
          ]
        }
      ]
    },
    {
      "cell_type": "markdown",
      "source": [
        "###Assignment 6.2: Matrix multiplication\n",
        "C: Multiply two compatible matrices, producing a new matrix combining rows and columns.\n",
        "\n",
        "E: Use `np.dot()`.\n",
        "\n",
        "L: Core operation in **ML, graphics, physics**.\n",
        "\n",
        "L: Shape must be compatible **(inner dimensions equal)**."
      ],
      "metadata": {
        "id": "zcVahWNtFdut"
      }
    },
    {
      "cell_type": "code",
      "source": [
        "array1 = np.random.randint(1, 11, size=(2, 3))\n",
        "array2 = np.random.randint(1, 11, size=(3, 2))\n",
        "print(\"Array 1:\")\n",
        "print(array1)\n",
        "print(\"Array 2:\")\n",
        "print(array2)\n",
        "\n",
        "result = np.dot(array1, array2)\n",
        "print(\"\\nMatrix multiplication result:\")\n",
        "print(result)\n"
      ],
      "metadata": {
        "colab": {
          "base_uri": "https://localhost:8080/"
        },
        "id": "KsyYZ1vdFeHd",
        "outputId": "5c8e64f3-4437-4aca-bc18-504d916e55a7"
      },
      "execution_count": 14,
      "outputs": [
        {
          "output_type": "stream",
          "name": "stdout",
          "text": [
            "Array 1:\n",
            "[[3 2 3]\n",
            " [1 9 7]]\n",
            "Array 2:\n",
            "[[ 9  1]\n",
            " [ 1  7]\n",
            " [ 2 10]]\n",
            "\n",
            "Matrix multiplication result:\n",
            "[[ 35  47]\n",
            " [ 32 134]]\n"
          ]
        }
      ]
    },
    {
      "cell_type": "markdown",
      "source": [
        "###Assignment 7.1: Reshape array\n",
        "C: Change the shape of the array without changing data.\n",
        "\n",
        "E: Use `.reshape()`.\n",
        "\n",
        "L: Useful in **preparing data for ML models, flattening images**.\n",
        "\n",
        "L: Total elements must remain **constant**."
      ],
      "metadata": {
        "id": "F6i6O2DVFehd"
      }
    },
    {
      "cell_type": "code",
      "source": [
        "array = np.arange(1, 10).reshape((3, 3))\n",
        "print(\"Original array:\")\n",
        "print(array)\n",
        "\n",
        "reshaped_1 = array.reshape((1, 9))\n",
        "print(\"\\nReshaped array (1, 9):\")\n",
        "print(reshaped_1)\n",
        "\n",
        "reshaped_2 = reshaped_1.reshape((9, 1))\n",
        "print(\"\\nReshaped array (9, 1):\")\n",
        "print(reshaped_2)\n"
      ],
      "metadata": {
        "colab": {
          "base_uri": "https://localhost:8080/"
        },
        "id": "POs5vYodFfPG",
        "outputId": "f9da1cdc-b8b6-46b1-9dfb-764be012a32c"
      },
      "execution_count": 15,
      "outputs": [
        {
          "output_type": "stream",
          "name": "stdout",
          "text": [
            "Original array:\n",
            "[[1 2 3]\n",
            " [4 5 6]\n",
            " [7 8 9]]\n",
            "\n",
            "Reshaped array (1, 9):\n",
            "[[1 2 3 4 5 6 7 8 9]]\n",
            "\n",
            "Reshaped array (9, 1):\n",
            "[[1]\n",
            " [2]\n",
            " [3]\n",
            " [4]\n",
            " [5]\n",
            " [6]\n",
            " [7]\n",
            " [8]\n",
            " [9]]\n"
          ]
        }
      ]
    },
    {
      "cell_type": "markdown",
      "source": [
        "## Assignment 7.2: Flatten and reshape back\n",
        "C: Flatten to 1D then revert to original shape.\n",
        "\n",
        "E: Use `.flatten()` and `.reshape()`.\n",
        "\n",
        "L: Common in **image processing pipelines**.\n",
        "\n",
        "L: Flatten returns a copy."
      ],
      "metadata": {
        "id": "ASBt9rkZIZxw"
      }
    },
    {
      "cell_type": "code",
      "source": [
        "array = np.random.randint(1, 21, size=(5, 5))\n",
        "print(\"Original array:\")\n",
        "print(array)\n",
        "\n",
        "flattened = array.flatten()\n",
        "print(\"\\nFlattened array:\")\n",
        "print(flattened)\n",
        "\n",
        "reshaped = flattened.reshape((5, 5))\n",
        "print(\"\\nReshaped array:\")\n",
        "print(reshaped)\n"
      ],
      "metadata": {
        "colab": {
          "base_uri": "https://localhost:8080/"
        },
        "id": "NX_wKZJ6Ib54",
        "outputId": "65aeb743-b60c-4e0d-8b8e-edfff87139a3"
      },
      "execution_count": 16,
      "outputs": [
        {
          "output_type": "stream",
          "name": "stdout",
          "text": [
            "Original array:\n",
            "[[19  2 10  2  9]\n",
            " [ 6  2  7 14  3]\n",
            " [ 3  1 11  9 16]\n",
            " [15 20  7 20 12]\n",
            " [11 18 15  4 16]]\n",
            "\n",
            "Flattened array:\n",
            "[19  2 10  2  9  6  2  7 14  3  3  1 11  9 16 15 20  7 20 12 11 18 15  4\n",
            " 16]\n",
            "\n",
            "Reshaped array:\n",
            "[[19  2 10  2  9]\n",
            " [ 6  2  7 14  3]\n",
            " [ 3  1 11  9 16]\n",
            " [15 20  7 20 12]\n",
            " [11 18 15  4 16]]\n"
          ]
        }
      ]
    },
    {
      "cell_type": "markdown",
      "source": [
        "###Assignment 8.1: Fancy indexing - corners extraction\n",
        "C: Select specific elements by row and column indices.\n",
        "\n",
        "E: Use arrays of **indices for rows and columns**.\n",
        "\n",
        "L: Accessing s**pecial positions (corners, edges**).\n",
        "\n",
        "L: Index arrays must be same length."
      ],
      "metadata": {
        "id": "TYZfowXAIcaX"
      }
    },
    {
      "cell_type": "code",
      "source": [
        "array = np.random.randint(1, 21, size=(5, 5))\n",
        "print(\"Original array:\")\n",
        "print(array)\n",
        "\n",
        "corners = array[[0, 0, -1, -1], [0, -1, 0, -1]]\n",
        "print(\"\\nCorner elements:\")\n",
        "print(corners)\n"
      ],
      "metadata": {
        "colab": {
          "base_uri": "https://localhost:8080/"
        },
        "id": "vLhg4hPLIcw-",
        "outputId": "1c81bc90-a453-45bc-9a0e-53a15f31e7fb"
      },
      "execution_count": 17,
      "outputs": [
        {
          "output_type": "stream",
          "name": "stdout",
          "text": [
            "Original array:\n",
            "[[11  5  5 12 20]\n",
            " [11  5  7 19  5]\n",
            " [ 5 11  1  8  2]\n",
            " [ 7  8 12  1 15]\n",
            " [ 9 17 10 20 12]]\n",
            "\n",
            "Corner elements:\n",
            "[11 20  9 12]\n"
          ]
        }
      ]
    },
    {
      "cell_type": "markdown",
      "source": [
        "###Assignment 8.2: Boolean indexing - cap elements\n",
        "C: Select elements based on condition and modify.\n",
        "\n",
        "E: Use boolean mask `array > 10` to set ***all >10*** to 10.\n",
        "\n",
        "L: Data cleaning, clipping **outliers**.\n",
        "\n",
        "L: Works on mutable arrays."
      ],
      "metadata": {
        "id": "nKOS10l8IdGy"
      }
    },
    {
      "cell_type": "code",
      "source": [
        "array = np.random.randint(1, 21, size=(4, 4))\n",
        "print(\"Original array:\")\n",
        "print(array)\n",
        "\n",
        "array[array > 10] = 10\n",
        "print(\"\\nModified array (values > 10 set to 10):\")\n",
        "print(array)\n"
      ],
      "metadata": {
        "colab": {
          "base_uri": "https://localhost:8080/"
        },
        "id": "sj2pb5uUIddn",
        "outputId": "3206c268-6e4a-466d-fb8a-d8f1f48c8940"
      },
      "execution_count": 18,
      "outputs": [
        {
          "output_type": "stream",
          "name": "stdout",
          "text": [
            "Original array:\n",
            "[[ 2  6 13  5]\n",
            " [19  3  5 12]\n",
            " [15  9 11 16]\n",
            " [ 2 17 20 14]]\n",
            "\n",
            "Modified array (values > 10 set to 10):\n",
            "[[ 2  6 10  5]\n",
            " [10  3  5 10]\n",
            " [10  9 10 10]\n",
            " [ 2 10 10 10]]\n"
          ]
        }
      ]
    },
    {
      "cell_type": "markdown",
      "source": [
        "## Assignment 9.1: Structured arrays - sort by age\n",
        "C: Array with multiple named fields (like a small database).\n",
        "\n",
        "E: Define **dtype, create array, sort by field.**\n",
        "\n",
        "L: Handling **mixed data types**, structured records.\n",
        "\n",
        "L: Sorting only by one field at a time."
      ],
      "metadata": {
        "id": "YDhtjUKLIdxf"
      }
    },
    {
      "cell_type": "code",
      "source": [
        "data_type = [('name', 'U10'), ('age', 'i4'), ('weight', 'f4')]\n",
        "data = np.array([('Alice', 25, 55.5), ('Bob', 30, 85.3), ('Charlie', 20, 65.2)], dtype=data_type)\n",
        "print(\"Original array:\")\n",
        "print(data)\n",
        "\n",
        "sorted_data = np.sort(data, order='age')\n",
        "print(\"\\nSorted array by age:\")\n",
        "print(sorted_data)\n"
      ],
      "metadata": {
        "colab": {
          "base_uri": "https://localhost:8080/"
        },
        "id": "jBnb45QtIeVd",
        "outputId": "5c263431-9cde-45c1-b2dc-1147dc4f5d5f"
      },
      "execution_count": 20,
      "outputs": [
        {
          "output_type": "stream",
          "name": "stdout",
          "text": [
            "Original array:\n",
            "[('Alice', 25, 55.5) ('Bob', 30, 85.3) ('Charlie', 20, 65.2)]\n",
            "\n",
            "Sorted array by age:\n",
            "[('Charlie', 20, 65.2) ('Alice', 25, 55.5) ('Bob', 30, 85.3)]\n"
          ]
        }
      ]
    },
    {
      "cell_type": "markdown",
      "source": [
        "## Assignment 9.2: Structured arrays - Euclidean distance\n",
        "C: Points with coordinates; compute distances pairwise.\n",
        "\n",
        "E: Use broadcasting and **square root of sum of squares**.\n",
        "\n",
        "L: Spatial calculations, clustering.\n",
        "\n",
        "L: Works only with **numeric fields**."
      ],
      "metadata": {
        "id": "4dsCa5ufjYpA"
      }
    },
    {
      "cell_type": "code",
      "source": [
        "data_type = [('x', 'i4'), ('y', 'i4')]\n",
        "data = np.array([(1, 2), (3, 4), (5, 6)], dtype=data_type)\n",
        "print(\"Original array:\")\n",
        "print(data)\n",
        "\n",
        "distances = np.sqrt((data['x'][:, None] - data['x'])**2 + (data['y'][:, None] - data['y'])**2)\n",
        "print(\"\\nEuclidean distances:\")\n",
        "print(distances)\n"
      ],
      "metadata": {
        "colab": {
          "base_uri": "https://localhost:8080/"
        },
        "id": "sSonwa4OjZ-F",
        "outputId": "4632a4d0-0733-4141-d685-4e48fc37ee68"
      },
      "execution_count": 21,
      "outputs": [
        {
          "output_type": "stream",
          "name": "stdout",
          "text": [
            "Original array:\n",
            "[(1, 2) (3, 4) (5, 6)]\n",
            "\n",
            "Euclidean distances:\n",
            "[[0.         2.82842712 5.65685425]\n",
            " [2.82842712 0.         2.82842712]\n",
            " [5.65685425 2.82842712 0.        ]]\n"
          ]
        }
      ]
    },
    {
      "cell_type": "markdown",
      "source": [
        "### Assignment 10.1: Masked arrays - mask elements > 10 and sum unmasked\n",
        "C: **Mask array elements based on condition and operate only on visible ones**.\n",
        "\n",
        "E: Use `np.ma.masked_greater`.\n",
        "\n",
        "L: Handling missing or invalid data.\n",
        "\n",
        "L: Masked **operations may be slower**."
      ],
      "metadata": {
        "id": "gD1kihynjael"
      }
    },
    {
      "cell_type": "code",
      "source": [
        "import numpy.ma as ma\n",
        "\n",
        "array = np.random.randint(1, 21, size=(4, 4))\n",
        "masked_array = ma.masked_greater(array, 10)\n",
        "print(\"Original array:\")\n",
        "print(array)\n",
        "print(\"\\nMasked array (elements > 10 masked):\")\n",
        "print(masked_array)\n",
        "\n",
        "sum_unmasked = masked_array.sum()\n",
        "print(\"\\nSum of unmasked elements:\", sum_unmasked)\n"
      ],
      "metadata": {
        "colab": {
          "base_uri": "https://localhost:8080/"
        },
        "id": "V3SvAxsSja1u",
        "outputId": "e8a3b706-6de2-46a4-c111-f7dfb4e5320b"
      },
      "execution_count": 23,
      "outputs": [
        {
          "output_type": "stream",
          "name": "stdout",
          "text": [
            "Original array:\n",
            "[[ 3 17  6 12]\n",
            " [ 2  7  8  1]\n",
            " [ 8 17 20 11]\n",
            " [14  6 11 15]]\n",
            "\n",
            "Masked array (elements > 10 masked):\n",
            "[[3 -- 6 --]\n",
            " [2 7 8 1]\n",
            " [8 -- -- --]\n",
            " [-- 6 -- --]]\n",
            "\n",
            "Sum of unmasked elements: 41\n"
          ]
        }
      ]
    },
    {
      "cell_type": "markdown",
      "source": [
        "####Assignment 10.2: Mask diagonal, replace masked with mean of unmasked\n",
        "C: Mask diagonal and fill masked with mean of rest.\n",
        "\n",
        "E: Use mask with identity matrix, `.filled()` with mean.\n",
        "\n",
        "L: Data imputation or cleaning.\n",
        "\n",
        "L: Mask must be boolean with correct shape.\n"
      ],
      "metadata": {
        "id": "_ns8WkExjbPF"
      }
    },
    {
      "cell_type": "code",
      "source": [
        "array = np.random.randint(1, 21, size=(3, 3))\n",
        "masked_array = ma.masked_array(array, mask=np.eye(3, dtype=bool))\n",
        "print(\"Original array:\")\n",
        "print(array)\n",
        "print(\"\\nMasked array (diagonal masked):\")\n",
        "print(masked_array)\n",
        "\n",
        "mean_unmasked = masked_array.mean()\n",
        "filled_array = masked_array.filled(mean_unmasked)\n",
        "print(\"\\nModified masked array (diagonal replaced with mean):\")\n",
        "print(filled_array)\n"
      ],
      "metadata": {
        "colab": {
          "base_uri": "https://localhost:8080/"
        },
        "id": "BwlbAK0JjcUY",
        "outputId": "61e86923-2e68-4f9f-f016-073932fd87a8"
      },
      "execution_count": 24,
      "outputs": [
        {
          "output_type": "stream",
          "name": "stdout",
          "text": [
            "Original array:\n",
            "[[15 10  4]\n",
            " [12  1  6]\n",
            " [ 5  6 11]]\n",
            "\n",
            "Masked array (diagonal masked):\n",
            "[[-- 10 4]\n",
            " [12 -- 6]\n",
            " [5 6 --]]\n",
            "\n",
            "Modified masked array (diagonal replaced with mean):\n",
            "[[ 7 10  4]\n",
            " [12  7  6]\n",
            " [ 5  6  7]]\n"
          ]
        }
      ]
    },
    {
      "cell_type": "markdown",
      "source": [
        "## **Motivation**\n",
        "Learning NumPy through hands-on assignments builds the foundation for efficient data manipulation, analysis, and scientific computing. This process trains you to think in **arrays and vectorized operations**.\n",
        "\n",
        "\n",
        "\n",
        "### **Assignments → Use Cases**\n",
        "\n",
        "1. **Create and modify arrays** → Initialize datasets, change specific values for cleaning or preprocessing.\n",
        "2. **Indexing and slicing** → Select subsets of data for analysis or modeling.\n",
        "3. **Element-wise operations** → Perform fast calculations without loops.\n",
        "4. **Statistical calculations** → Summarize datasets, prepare for analytics.\n",
        "5. **Broadcasting** → Apply transformations to entire datasets efficiently.\n",
        "6. **Linear algebra** → Solve equations, transformations, and model computations.\n",
        "7. **Reshaping and flattening** → Prepare data for ML models or reshape for visualization.\n",
        "8. **Fancy indexing** → Extract irregular patterns or important points from datasets.\n",
        "9. **Boolean indexing** → Filter datasets based on conditions.\n",
        "10. **Structured arrays** → Manage data with mixed types (like a spreadsheet).\n",
        "11. **Sorting and filtering** → Organize data for analysis or reporting.\n",
        "12. **Distance computations** → Measure similarity or spatial distances between data points.\n",
        "13. **Masked arrays** → Work with missing/invalid data without breaking computations.\n",
        "\n",
        "---\n",
        "\n",
        "## **Challenges**\n",
        "\n",
        "* **Remembering NumPy syntax** for different indexing and reshaping operations.\n",
        "* **Understanding broadcasting rules** when working with arrays of different shapes.\n",
        "* **Debugging shape mismatches** in operations like matrix multiplication.\n",
        "* **Interpreting error messages** for advanced functions (like `linalg` methods).\n",
        "* **Visualizing changes** — hard to imagine transformations without before/after comparisons.\n",
        "* **Handling missing or invalid data** in masked arrays without losing important information.\n",
        "\n",
        "---\n",
        "\n",
        "###Personal takeaway:\n",
        "Creating this repo was tough!\n",
        "As an **aspiring Solutions Architect**, I aim to solve complex challenges like this often, using a C.E.L.L method keeps learn simple and efficient.\n",
        "So Much so I came to realise; I am not **learning code, but patterns**.\n",
        "Remembering all this information becomes easier using this method, however, situations call for fast-decisive action therefore I began to adapt into spotting **reuseable code**-tutorials, youtube, github repos, etc.\n",
        "Perhaps this may evolve into 'mental-templates' for long-term recall, if not I still have this repo for my personal Ref."
      ],
      "metadata": {
        "id": "TvOhLLvJl8xQ"
      }
    }
  ]
}