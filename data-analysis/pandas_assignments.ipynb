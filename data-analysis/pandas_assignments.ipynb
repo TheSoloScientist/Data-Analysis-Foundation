{
  "cells": [
    {
      "cell_type": "markdown",
      "metadata": {
        "id": "Bm5TIgK81q2K"
      },
      "source": [
        "# Pandas Assignments Notebook\n",
        "Python foundamental projects translated into use-cases using **C.E.L.L. method**. Pandas assignments designed to build foundational skills in data manipulation, analysis, and cleaning using Python’s Pandas library.\n",
        "\n",
        "Each assignment focuses on key concepts with practical use cases.\n",
        "\n",
        "---\n",
        "\n",
        "##Overview of Assignments and Use Cases\n",
        "\n",
        "##Assignment 1: DataFrame Creation and Indexing\n",
        "Use Case: Creating tables with data and setting meaningful row labels (indexes) to quickly access data by keys.\n",
        "\n",
        "##Assignment 2: DataFrame Operations\n",
        "Use Case: Performing calculations on data columns and summarizing data by rows or columns for insights.\n",
        "\n",
        "##Assignment 3: Data Cleaning\n",
        "Use Case: Handling missing data by filling in gaps or removing incomplete records to prepare clean datasets.\n",
        "\n",
        "##Assignment 4: Data Aggregation\n",
        "Use Case: Grouping data by categories (e.g., sales regions or product types) and computing summaries like totals and averages.\n",
        "\n",
        "##Assignment 5: Merging DataFrames\n",
        "Use Case: Combining multiple datasets based on common keys or stacking data vertically/horizontally for comprehensive analysis.\n",
        "\n",
        "##Assignment 6: Time Series Analysis\n",
        "Use Case: Working with date/time indexed data to analyze trends over time using resampling and rolling averages.\n",
        "\n",
        "##Assignment 7: MultiIndex DataFrame\n",
        "Use Case: Managing hierarchical data with multiple levels of indexing to perform advanced grouping and slicing.\n",
        "\n",
        "##Assignment 8: Pivot Tables\n",
        "Use Case: Summarizing data across multiple dimensions, similar to Excel pivot tables, for quick, flexible reports.\n",
        "\n",
        "##Assignment 9: Applying Functions\n",
        "Use Case: Transforming data by applying custom or built-in functions to modify or create new data columns.\n",
        "\n",
        "##Assignment 10: Working with Text Data\n",
        "Use Case: Cleaning and extracting useful information from text columns for tasks like data standardization or feature engineering.\n",
        "\n",
        "---"
      ]
    },
    {
      "cell_type": "markdown",
      "metadata": {
        "id": "xusXfzphCnF4"
      },
      "source": [
        "###Assignment 1: DataFrame Creation and Indexing\n",
        "Concept:\n",
        "- DataFrames are 2D labeled data structures like tables with rows and columns.\n",
        "- You can create DataFrames with data and specify indexes (row labels).\n",
        "- **Indexing lets you label** rows by a specific column for easier data access.\n",
        "\n",
        "Lifecycle (Use cases):\n",
        "- Creating DataFrames from raw data\n",
        "- Setting a meaningful index to uniquely identify rows (e.g., IDs)\n",
        "- Enables fast lookups and data alignment\n",
        "\n"
      ]
    },
    {
      "cell_type": "code",
      "execution_count": 2,
      "metadata": {
        "colab": {
          "base_uri": "https://localhost:8080/"
        },
        "id": "vJo8wR3G2L8n",
        "outputId": "f141441c-0304-441c-9c5b-b9a61e4ed5c5"
      },
      "outputs": [
        {
          "name": "stdout",
          "output_type": "stream",
          "text": [
            "Original DataFrame:\n",
            "    A   B   C   D\n",
            "0  38  16  75  61\n",
            "1  81  78  47  69\n",
            "2  56  97  91  13\n",
            "3  42  21  34  32\n",
            "4  95  26  47  12\n",
            "5  70  63   3  27\n",
            "\n",
            "DataFrame with 'A' as index:\n",
            "     B   C   D\n",
            "A             \n",
            "38  16  75  61\n",
            "81  78  47  69\n",
            "56  97  91  13\n",
            "42  21  34  32\n",
            "95  26  47  12\n",
            "70  63   3  27\n"
          ]
        }
      ],
      "source": [
        "import pandas as pd\n",
        "import numpy as np\n",
        "\n",
        "# Create DataFrame with 4 columns (A-D), 6 rows with random integers\n",
        "df = pd.DataFrame(np.random.randint(1, 100, size=(6, 4)), columns=['A', 'B', 'C', 'D'])\n",
        "print(\"Original DataFrame:\")\n",
        "print(df)\n",
        "\n",
        "# Set index to first column 'A'\n",
        "df.set_index('A', inplace=True)\n",
        "print(\"\\nDataFrame with 'A' as index:\")\n",
        "print(df)\n"
      ]
    },
    {
      "cell_type": "markdown",
      "metadata": {
        "id": "Aytc2oQtCnx_"
      },
      "source": [
        "##Assignment 1.2: Accessing Data via Labels\n",
        " Use `.at[]` to get a specific value by row and column labels."
      ]
    },
    {
      "cell_type": "code",
      "execution_count": 26,
      "metadata": {
        "colab": {
          "base_uri": "https://localhost:8080/"
        },
        "id": "AiebeTNA6UMS",
        "outputId": "b6bdcf98-81e8-4ffd-e2b6-12de8ab72db1"
      },
      "outputs": [
        {
          "name": "stdout",
          "output_type": "stream",
          "text": [
            "Original DataFrame:\n",
            "    A   B   C\n",
            "X  82  72  21\n",
            "Y  68  75  40\n",
            "Z  34  84  70\n",
            "\n",
            "Element at row 'Y' and column 'B': 75\n"
          ]
        }
      ],
      "source": [
        "# Create DataFrame with specific columns and row indexes\n",
        "df = pd.DataFrame(np.random.randint(1, 100, size=(3, 3)), columns=['A', 'B', 'C'], index=['X', 'Y', 'Z'])\n",
        "print(\"Original DataFrame:\")\n",
        "print(df)\n",
        "\n",
        "# Access element at row 'Y' and column 'B'\n",
        "element = df.at['Y', 'B']\n",
        "print(\"\\nElement at row 'Y' and column 'B':\", element)\n"
      ]
    },
    {
      "cell_type": "markdown",
      "metadata": {
        "id": "QLPS13PzCo2P"
      },
      "source": [
        "###Assignment 2: DataFrame Operations\n",
        "Concept:\n",
        "- You can do **arithmetic on DataFrames** and create new columns from operations on existing ones.\n",
        "- Row-wise and column-wise aggregation is common (sum, mean, etc.).\n",
        "\n",
        "**Example 2.1**: Adding Product Column.\n",
        "\n",
        "**Example 2.2:** Row-wise & Column-wise Sum\n",
        "\n",
        "Use Cases:\n",
        "- Summarize data by rows or columns\n",
        "- Create **new features/columns** based on calculations"
      ]
    },
    {
      "cell_type": "code",
      "execution_count": 5,
      "metadata": {
        "colab": {
          "base_uri": "https://localhost:8080/"
        },
        "id": "7muMpbds6UpO",
        "outputId": "e38a5c94-4804-4c89-b355-12de1cf76acc"
      },
      "outputs": [
        {
          "name": "stdout",
          "output_type": "stream",
          "text": [
            "Original DataFrame:\n",
            "    A   B   C\n",
            "0  72  92  91\n",
            "1  42  89  29\n",
            "2  52  84  71\n",
            "3  15  82  28\n",
            "4  48  22  86\n",
            "\n",
            "DataFrame with new column D (A*B):\n",
            "    A   B   C     D\n",
            "0  72  92  91  6624\n",
            "1  42  89  29  3738\n",
            "2  52  84  71  4368\n",
            "3  15  82  28  1230\n",
            "4  48  22  86  1056\n"
          ]
        }
      ],
      "source": [
        "# Example 2.1: Adding Product Column\n",
        "df = pd.DataFrame(np.random.randint(1, 100, size=(5, 3)), columns=['A', 'B', 'C'])\n",
        "print(\"Original DataFrame:\")\n",
        "print(df)\n",
        "\n",
        "# Add new column 'D' = product of columns A and B\n",
        "df['D'] = df['A'] * df['B']\n",
        "print(\"\\nDataFrame with new column D (A*B):\")\n",
        "print(df)"
      ]
    },
    {
      "cell_type": "code",
      "execution_count": 6,
      "metadata": {
        "colab": {
          "base_uri": "https://localhost:8080/"
        },
        "id": "M1YqkqFFxZUa",
        "outputId": "758a980b-faed-4292-e5ea-fefcbc0ed01d"
      },
      "outputs": [
        {
          "name": "stdout",
          "output_type": "stream",
          "text": [
            "Original DataFrame:\n",
            "    A   B   C\n",
            "0  70  67  98\n",
            "1   8  95  19\n",
            "2  55  84   2\n",
            "3  28  73  25\n",
            "\n",
            "Row-wise sum:\n",
            "0    235\n",
            "1    122\n",
            "2    141\n",
            "3    126\n",
            "dtype: int64\n",
            "\n",
            "Column-wise sum:\n",
            "A    161\n",
            "B    319\n",
            "C    144\n",
            "dtype: int64\n"
          ]
        }
      ],
      "source": [
        "#Example 2.2: Row-wise & Column-wise Sum\n",
        "df = pd.DataFrame(np.random.randint(1, 100, size=(4, 3)), columns=['A', 'B', 'C'])\n",
        "print(\"Original DataFrame:\")\n",
        "print(df)\n",
        "\n",
        "row_sum = df.sum(axis=1)  # sum across columns for each row\n",
        "col_sum = df.sum(axis=0)  # sum across rows for each column\n",
        "\n",
        "print(\"\\nRow-wise sum:\")\n",
        "print(row_sum)\n",
        "\n",
        "print(\"\\nColumn-wise sum:\")\n",
        "print(col_sum)\n"
      ]
    },
    {
      "cell_type": "markdown",
      "metadata": {
        "id": "fDd2tR-SCpWV"
      },
      "source": [
        "###Assignment 3: Data Cleaning\n",
        "Concept:\n",
        "- Data often contains missing values (NaNs).\n",
        "- We can fill missing values or drop rows with missing data.\n",
        "\n",
        "**Example 3.1:** Filling NaNs with Column Means\n",
        "\n",
        "**Example 3.2:** Dropping Rows with NaNs\n",
        "\n",
        "**Use Cases:**\n",
        "- Prepare datasets for machine learning or analysis\n",
        "- Handle incomplete data"
      ]
    },
    {
      "cell_type": "code",
      "execution_count": 7,
      "metadata": {
        "colab": {
          "base_uri": "https://localhost:8080/"
        },
        "id": "fyf3ayEP6Uup",
        "outputId": "dbfd68e1-8807-4ee0-efd1-9bd5b057b569"
      },
      "outputs": [
        {
          "name": "stdout",
          "output_type": "stream",
          "text": [
            "DataFrame with NaNs:\n",
            "      A     B     C\n",
            "0  51.0   NaN  72.0\n",
            "1  10.0  47.0  64.0\n",
            "2  45.0  22.0   NaN\n",
            "3  11.0   5.0  82.0\n",
            "4   NaN  93.0  16.0\n",
            "\n",
            "DataFrame after filling NaNs with column means:\n",
            "       A      B     C\n",
            "0  51.00  41.75  72.0\n",
            "1  10.00  47.00  64.0\n",
            "2  45.00  22.00  58.5\n",
            "3  11.00   5.00  82.0\n",
            "4  29.25  93.00  16.0\n"
          ]
        }
      ],
      "source": [
        "#Example 3.1: Filling NaNs with Column Means\n",
        "df = pd.DataFrame(np.random.randint(1, 100, size=(5, 3)), columns=['A', 'B', 'C'])\n",
        "df.iloc[0, 1] = np.nan\n",
        "df.iloc[2, 2] = np.nan\n",
        "df.iloc[4, 0] = np.nan\n",
        "print(\"DataFrame with NaNs:\")\n",
        "print(df)\n",
        "\n",
        "df.fillna(df.mean(), inplace=True)\n",
        "print(\"\\nDataFrame after filling NaNs with column means:\")\n",
        "print(df)\n"
      ]
    },
    {
      "cell_type": "code",
      "execution_count": 8,
      "metadata": {
        "colab": {
          "base_uri": "https://localhost:8080/"
        },
        "id": "Vz991EKnyQSZ",
        "outputId": "86e22c30-135a-4202-a433-bed072ee9b0b"
      },
      "outputs": [
        {
          "name": "stdout",
          "output_type": "stream",
          "text": [
            "DataFrame with NaNs:\n",
            "      A     B     C   D\n",
            "0  10.0  37.0  65.0  66\n",
            "1   6.0  76.0   NaN  23\n",
            "2  58.0  87.0  93.0  69\n",
            "3   NaN  56.0  23.0  78\n",
            "4  26.0  21.0  20.0  56\n",
            "5  47.0   NaN  28.0  61\n",
            "\n",
            "DataFrame after dropping rows with NaNs:\n",
            "      A     B     C   D\n",
            "0  10.0  37.0  65.0  66\n",
            "2  58.0  87.0  93.0  69\n",
            "4  26.0  21.0  20.0  56\n"
          ]
        }
      ],
      "source": [
        "#Example 3.2: Dropping Rows with NaNs\n",
        "df = pd.DataFrame(np.random.randint(1, 100, size=(6, 4)), columns=['A', 'B', 'C', 'D'])\n",
        "df.iloc[1, 2] = np.nan\n",
        "df.iloc[3, 0] = np.nan\n",
        "df.iloc[5, 1] = np.nan\n",
        "print(\"DataFrame with NaNs:\")\n",
        "print(df)\n",
        "\n",
        "df.dropna(inplace=True)\n",
        "print(\"\\nDataFrame after dropping rows with NaNs:\")\n",
        "print(df)\n"
      ]
    },
    {
      "cell_type": "markdown",
      "metadata": {
        "id": "HhGR6Y8hCqcO"
      },
      "source": [
        "## Assignment 4: Data Aggregation\n",
        "Concept:\n",
        "Group data by **categorical variables and aggregate** (sum, mean, etc.) values.\n",
        "\n",
        "**Example 4.1:** Group by Category Sum & Mean\n",
        "\n",
        "**Example 4.2:** Group Product Sales by Category\n",
        "\n",
        "**Use Cases:**\n",
        "- Sales reports, business intelligence\n",
        "- Summarizing data by groups\n",
        "\n"
      ]
    },
    {
      "cell_type": "code",
      "execution_count": 9,
      "metadata": {
        "colab": {
          "base_uri": "https://localhost:8080/"
        },
        "id": "JXknlW8L6UzX",
        "outputId": "69091f9a-ca75-4e14-dfd7-91e7c1d3fead"
      },
      "outputs": [
        {
          "name": "stdout",
          "output_type": "stream",
          "text": [
            "Original DataFrame:\n",
            "  Category  Value\n",
            "0        C     87\n",
            "1        A     29\n",
            "2        B     21\n",
            "3        A     83\n",
            "4        A     97\n",
            "5        A     37\n",
            "6        C     46\n",
            "7        A     95\n",
            "8        C     86\n",
            "9        A     96\n",
            "\n",
            "Grouped sum and mean by Category:\n",
            "          sum       mean\n",
            "Category                \n",
            "A         437  72.833333\n",
            "B          21  21.000000\n",
            "C         219  73.000000\n"
          ]
        }
      ],
      "source": [
        "#Example 4.1: Group by Category Sum & Mean\n",
        "df = pd.DataFrame({\n",
        "    'Category': np.random.choice(['A', 'B', 'C'], size=10),\n",
        "    'Value': np.random.randint(1, 100, size=10)\n",
        "})\n",
        "print(\"Original DataFrame:\")\n",
        "print(df)\n",
        "\n",
        "grouped = df.groupby('Category')['Value'].agg(['sum', 'mean'])\n",
        "print(\"\\nGrouped sum and mean by Category:\")\n",
        "print(grouped)\n"
      ]
    },
    {
      "cell_type": "code",
      "execution_count": 10,
      "metadata": {
        "colab": {
          "base_uri": "https://localhost:8080/"
        },
        "id": "BiwK-oiYzCiU",
        "outputId": "50cc0849-54c1-4f2b-98bd-5fce00295c89"
      },
      "outputs": [
        {
          "name": "stdout",
          "output_type": "stream",
          "text": [
            "Original DataFrame:\n",
            "  Product Category  Sales\n",
            "0   Prod2        A     47\n",
            "1   Prod3        B     70\n",
            "2   Prod1        A     31\n",
            "3   Prod3        C     58\n",
            "4   Prod3        C     61\n",
            "5   Prod2        B     77\n",
            "6   Prod3        A     71\n",
            "7   Prod1        B     51\n",
            "8   Prod3        B     10\n",
            "9   Prod3        A     65\n",
            "\n",
            "Total sales by Category:\n",
            "Category\n",
            "A    214\n",
            "B    208\n",
            "C    119\n",
            "Name: Sales, dtype: int64\n"
          ]
        }
      ],
      "source": [
        "#Example 4.2: Group Product Sales by Category\n",
        "df = pd.DataFrame({\n",
        "    'Product': np.random.choice(['Prod1', 'Prod2', 'Prod3'], size=10),\n",
        "    'Category': np.random.choice(['A', 'B', 'C'], size=10),\n",
        "    'Sales': np.random.randint(1, 100, size=10)\n",
        "})\n",
        "print(\"Original DataFrame:\")\n",
        "print(df)\n",
        "\n",
        "grouped = df.groupby('Category')['Sales'].sum()\n",
        "print(\"\\nTotal sales by Category:\")\n",
        "print(grouped)\n"
      ]
    },
    {
      "cell_type": "markdown",
      "metadata": {
        "id": "7raOaEIkCrCl"
      },
      "source": [
        "##Assignment 5: Merging DataFrames\n",
        "Concept:\n",
        "**Combine DataFrames** by common columns (merge) or stack them (concatenate).\n",
        "\n",
        "**Example 5.1:** Merge on Common Column\n",
        "\n",
        "**Example 5.2:** Concatenate Along Rows & Columns\n",
        "\n",
        "**Use Cases:**\n",
        "- Combining **datasets from different sources**\n",
        "- Preparing **wide or long data formats**\n",
        "\n"
      ]
    },
    {
      "cell_type": "code",
      "execution_count": 11,
      "metadata": {
        "colab": {
          "base_uri": "https://localhost:8080/"
        },
        "id": "tkeuhGBCzu06",
        "outputId": "dee88db2-8ffb-4087-fb12-936c0859247f"
      },
      "outputs": [
        {
          "name": "stdout",
          "output_type": "stream",
          "text": [
            "DataFrame 1:\n",
            "  Key  Value1\n",
            "0   A      33\n",
            "1   B      96\n",
            "2   C      93\n",
            "3   D      22\n",
            "\n",
            "DataFrame 2:\n",
            "  Key  Value2\n",
            "0   A      48\n",
            "1   B      97\n",
            "2   C       1\n",
            "3   E      97\n",
            "\n",
            "Merged DataFrame:\n",
            "  Key  Value1  Value2\n",
            "0   A      33      48\n",
            "1   B      96      97\n",
            "2   C      93       1\n"
          ]
        }
      ],
      "source": [
        "#Example 5.1: Merge on Common Column\n",
        "df1 = pd.DataFrame({'Key': ['A', 'B', 'C', 'D'], 'Value1': np.random.randint(1, 100, 4)})\n",
        "df2 = pd.DataFrame({'Key': ['A', 'B', 'C', 'E'], 'Value2': np.random.randint(1, 100, 4)})\n",
        "print(\"DataFrame 1:\")\n",
        "print(df1)\n",
        "print(\"\\nDataFrame 2:\")\n",
        "print(df2)\n",
        "\n",
        "merged = pd.merge(df1, df2, on='Key')\n",
        "print(\"\\nMerged DataFrame:\")\n",
        "print(merged)\n"
      ]
    },
    {
      "cell_type": "code",
      "execution_count": 12,
      "metadata": {
        "colab": {
          "base_uri": "https://localhost:8080/"
        },
        "id": "31dJwuWK6U3R",
        "outputId": "5110176e-8d51-4019-ce12-629881183752"
      },
      "outputs": [
        {
          "name": "stdout",
          "output_type": "stream",
          "text": [
            "DataFrame 1:\n",
            "    A   B\n",
            "0  42  21\n",
            "1  33  13\n",
            "2  98  11\n",
            "\n",
            "DataFrame 2:\n",
            "    C   D\n",
            "0   1   5\n",
            "1  75  42\n",
            "2  88  33\n",
            "\n",
            "Concatenated along rows:\n",
            "      A     B     C     D\n",
            "0  42.0  21.0   NaN   NaN\n",
            "1  33.0  13.0   NaN   NaN\n",
            "2  98.0  11.0   NaN   NaN\n",
            "0   NaN   NaN   1.0   5.0\n",
            "1   NaN   NaN  75.0  42.0\n",
            "2   NaN   NaN  88.0  33.0\n",
            "\n",
            "Concatenated along columns:\n",
            "    A   B   C   D\n",
            "0  42  21   1   5\n",
            "1  33  13  75  42\n",
            "2  98  11  88  33\n"
          ]
        }
      ],
      "source": [
        "#Example 5.2: Concatenate Along Rows & Columns\n",
        "df1 = pd.DataFrame({'A': np.random.randint(1, 100, 3), 'B': np.random.randint(1, 100, 3)})\n",
        "df2 = pd.DataFrame({'C': np.random.randint(1, 100, 3), 'D': np.random.randint(1, 100, 3)})\n",
        "print(\"DataFrame 1:\")\n",
        "print(df1)\n",
        "print(\"\\nDataFrame 2:\")\n",
        "print(df2)\n",
        "\n",
        "concat_rows = pd.concat([df1, df2], axis=0)\n",
        "print(\"\\nConcatenated along rows:\")\n",
        "print(concat_rows)\n",
        "\n",
        "concat_cols = pd.concat([df1, df2], axis=1)\n",
        "print(\"\\nConcatenated along columns:\")\n",
        "print(concat_cols)\n"
      ]
    },
    {
      "cell_type": "markdown",
      "metadata": {
        "id": "jJXOV_HqCtX4"
      },
      "source": [
        "##Assignment 6: Time Series Analysis\n",
        "Concept:\n",
        "- Pandas handles **date/time data well with datetime indexes**.\n",
        "- Resampling and rolling windows are useful for summarizing **time series data**.\n",
        "\n",
        "**Example 6.1:** Monthly Mean Resampling\n",
        "\n",
        "**Example 6.2:** Rolling Mean with 7-day Window\n",
        "\n",
        "**Use Cases:**\n",
        "- Financial data analysis\n",
        "- Sensor data smoothing"
      ]
    },
    {
      "cell_type": "code",
      "execution_count": 13,
      "metadata": {
        "colab": {
          "base_uri": "https://localhost:8080/"
        },
        "id": "RRJD67MtCs5V",
        "outputId": "22447425-6af3-424c-b5ac-b1cb6cdcc2a3"
      },
      "outputs": [
        {
          "name": "stdout",
          "output_type": "stream",
          "text": [
            "Original DataFrame:\n",
            "            data\n",
            "date            \n",
            "2022-01-01    91\n",
            "2022-01-02    65\n",
            "2022-01-03    16\n",
            "2022-01-04    20\n",
            "2022-01-05    83\n",
            "\n",
            "Monthly mean:\n",
            "                 data\n",
            "date                 \n",
            "2022-01-31  54.193548\n",
            "2022-02-28  51.357143\n",
            "2022-03-31  55.774194\n",
            "2022-04-30  44.233333\n",
            "2022-05-31  47.419355\n",
            "2022-06-30  39.400000\n",
            "2022-07-31  47.612903\n",
            "2022-08-31  44.129032\n",
            "2022-09-30  56.333333\n",
            "2022-10-31  52.935484\n",
            "2022-11-30  48.800000\n",
            "2022-12-31  54.774194\n"
          ]
        },
        {
          "name": "stderr",
          "output_type": "stream",
          "text": [
            "/tmp/ipython-input-419500233.py:8: FutureWarning: 'M' is deprecated and will be removed in a future version, please use 'ME' instead.\n",
            "  monthly_mean = df.resample('M').mean()\n"
          ]
        }
      ],
      "source": [
        "#Example 6.1: Monthly Mean Resampling\n",
        "date_rng = pd.date_range(start='2022-01-01', end='2022-12-31', freq='D')\n",
        "df = pd.DataFrame({'date': date_rng, 'data': np.random.randint(0, 100, len(date_rng))})\n",
        "df.set_index('date', inplace=True)\n",
        "print(\"Original DataFrame:\")\n",
        "print(df.head())\n",
        "\n",
        "monthly_mean = df.resample('M').mean()\n",
        "print(\"\\nMonthly mean:\")\n",
        "print(monthly_mean)\n"
      ]
    },
    {
      "cell_type": "code",
      "execution_count": 14,
      "metadata": {
        "colab": {
          "base_uri": "https://localhost:8080/"
        },
        "id": "Y8Va1WEF0mI2",
        "outputId": "308ec5a4-3726-40de-d93d-36555a0a2dea"
      },
      "outputs": [
        {
          "name": "stdout",
          "output_type": "stream",
          "text": [
            "Original DataFrame:\n",
            "            data\n",
            "date            \n",
            "2021-01-01    60\n",
            "2021-01-02    34\n",
            "2021-01-03    30\n",
            "2021-01-04    48\n",
            "2021-01-05    70\n",
            "\n",
            "Rolling mean (7 days):\n",
            "                 data\n",
            "date                 \n",
            "2021-01-01        NaN\n",
            "2021-01-02        NaN\n",
            "2021-01-03        NaN\n",
            "2021-01-04        NaN\n",
            "2021-01-05        NaN\n",
            "2021-01-06        NaN\n",
            "2021-01-07  56.285714\n",
            "2021-01-08  56.285714\n",
            "2021-01-09  61.000000\n",
            "2021-01-10  63.000000\n"
          ]
        }
      ],
      "source": [
        "#Example 6.2: Rolling Mean with 7-day Window\n",
        "date_rng = pd.date_range(start='2021-01-01', end='2021-12-31', freq='D')\n",
        "df = pd.DataFrame({'date': date_rng, 'data': np.random.randint(0, 100, len(date_rng))})\n",
        "df.set_index('date', inplace=True)\n",
        "print(\"Original DataFrame:\")\n",
        "print(df.head())\n",
        "\n",
        "rolling_mean = df.rolling(window=7).mean()\n",
        "print(\"\\nRolling mean (7 days):\")\n",
        "print(rolling_mean.head(10))\n"
      ]
    },
    {
      "cell_type": "markdown",
      "metadata": {
        "id": "jNYnBY7YCt8V"
      },
      "source": [
        "## Assignment 7: MultiIndex DataFrame\n",
        "Concept\n",
        "- MultiIndex lets you have **hierarchical indexing** (e.g., Category and SubCategory).\n",
        "- Allows more **complex grouping and slicing**.\n",
        "\n",
        "**Example 7.1:** Creating MultiIndex & Basic Indexing\n",
        "\n",
        "**Example 7.2:** Grouping by MultiIndex Levels\n",
        "\n",
        "Use Cases:\n",
        "- Multi-level categorical data\n",
        "- Pivot tables and advanced aggregations"
      ]
    },
    {
      "cell_type": "code",
      "execution_count": 15,
      "metadata": {
        "colab": {
          "base_uri": "https://localhost:8080/"
        },
        "id": "tSNMnrceCsql",
        "outputId": "3b54a6da-85a2-4845-bff2-24d3cabb20f2"
      },
      "outputs": [
        {
          "name": "stdout",
          "output_type": "stream",
          "text": [
            "MultiIndex DataFrame:\n",
            "                      Value1  Value2  Value3\n",
            "Category SubCategory                        \n",
            "A        one              46      67      44\n",
            "         two              35      85      87\n",
            "B        one              11      92      71\n",
            "         two              54      88      34\n",
            "\n",
            "Data for Category 'A':\n",
            "             Value1  Value2  Value3\n",
            "SubCategory                        \n",
            "one              46      67      44\n",
            "two              35      85      87\n",
            "\n",
            "Data for Category 'B' and SubCategory 'two':\n",
            "Value1    54\n",
            "Value2    88\n",
            "Value3    34\n",
            "Name: (B, two), dtype: int64\n"
          ]
        }
      ],
      "source": [
        "# Example 7.1: Creating MultiIndex & Basic Indexing\n",
        "arrays = [['A', 'A', 'B', 'B'], ['one', 'two', 'one', 'two']]\n",
        "index = pd.MultiIndex.from_arrays(arrays, names=('Category', 'SubCategory'))\n",
        "df = pd.DataFrame(np.random.randint(1, 100, (4, 3)), index=index, columns=['Value1', 'Value2', 'Value3'])\n",
        "print(\"MultiIndex DataFrame:\")\n",
        "print(df)\n",
        "\n",
        "print(\"\\nData for Category 'A':\")\n",
        "print(df.loc['A'])\n",
        "\n",
        "print(\"\\nData for Category 'B' and SubCategory 'two':\")\n",
        "print(df.loc[('B', 'two')])\n"
      ]
    },
    {
      "cell_type": "code",
      "execution_count": 16,
      "metadata": {
        "colab": {
          "base_uri": "https://localhost:8080/"
        },
        "id": "-Uvbj7j71b5r",
        "outputId": "3d0b76f8-0275-41db-ac2e-9f03fc2d22e0"
      },
      "outputs": [
        {
          "name": "stdout",
          "output_type": "stream",
          "text": [
            "MultiIndex DataFrame:\n",
            "                      Value1  Value2  Value3\n",
            "Category SubCategory                        \n",
            "A        one              78      32      95\n",
            "         two              45      93      16\n",
            "B        one              92      96      88\n",
            "         two              94      54      35\n",
            "C        one              42      74      97\n",
            "         two              44      55       6\n",
            "\n",
            "Sum of values by Category and SubCategory:\n",
            "                      Value1  Value2  Value3\n",
            "Category SubCategory                        \n",
            "A        one              78      32      95\n",
            "         two              45      93      16\n",
            "B        one              92      96      88\n",
            "         two              94      54      35\n",
            "C        one              42      74      97\n",
            "         two              44      55       6\n"
          ]
        }
      ],
      "source": [
        "#Example 7.2: Grouping by MultiIndex Levels\n",
        "arrays = [['A', 'A', 'B', 'B', 'C', 'C'], ['one', 'two', 'one', 'two', 'one', 'two']]\n",
        "index = pd.MultiIndex.from_arrays(arrays, names=('Category', 'SubCategory'))\n",
        "df = pd.DataFrame(np.random.randint(1, 100, (6, 3)), index=index, columns=['Value1', 'Value2', 'Value3'])\n",
        "print(\"MultiIndex DataFrame:\")\n",
        "print(df)\n",
        "\n",
        "sum_values = df.groupby(['Category', 'SubCategory']).sum()\n",
        "print(\"\\nSum of values by Category and SubCategory:\")\n",
        "print(sum_values)\n"
      ]
    },
    {
      "cell_type": "markdown",
      "metadata": {
        "id": "KKFhKXHxCu4_"
      },
      "source": [
        "##Assignment 8: Pivot Tables\n",
        "Concept:\n",
        "- Pivot tables summarize data with aggregation by multiple factors.\n",
        "- Similar to **Excel pivot tables**.\n",
        "\n",
        "**Example 8.1:** Pivot Table by Date and Category\n",
        "\n",
        "**Example 8.2:** Pivot Table for Revenue by Year and Quarter\n",
        "\n",
        "Use Cases:\n",
        "- **Business reporting**\n",
        "- Summarizing complex datasets"
      ]
    },
    {
      "cell_type": "code",
      "execution_count": 18,
      "metadata": {
        "colab": {
          "base_uri": "https://localhost:8080/"
        },
        "id": "r52iEmzNCsnU",
        "outputId": "91048cef-7480-411a-ecd9-ec9325c7263f"
      },
      "outputs": [
        {
          "name": "stdout",
          "output_type": "stream",
          "text": [
            "Original DataFrame:\n",
            "        Date Category  Value\n",
            "0 2022-01-02        A      4\n",
            "1 2022-01-04        A     99\n",
            "2 2022-01-08        A     62\n",
            "3 2022-01-04        B     22\n",
            "4 2022-01-09        B     71\n",
            "\n",
            "Pivot Table (sum of Value by Date and Category):\n",
            "Category        A      B     C\n",
            "Date                          \n",
            "2022-01-01   79.0    NaN   NaN\n",
            "2022-01-02    4.0    NaN  39.0\n",
            "2022-01-03   58.0    NaN   NaN\n",
            "2022-01-04  128.0   42.0  98.0\n",
            "2022-01-05   20.0    NaN  57.0\n",
            "2022-01-06   10.0    NaN   NaN\n",
            "2022-01-07    NaN   89.0   NaN\n",
            "2022-01-08   62.0    NaN  44.0\n",
            "2022-01-09    NaN  160.0   NaN\n",
            "2022-01-10    NaN   40.0   NaN\n"
          ]
        }
      ],
      "source": [
        "#Example 8.1: Pivot Table by Date and Category\n",
        "date_rng = pd.date_range('2022-01-01', '2022-01-10')\n",
        "df = pd.DataFrame({\n",
        "    'Date': np.random.choice(date_rng, 20),\n",
        "    'Category': np.random.choice(['A', 'B', 'C'], 20),\n",
        "    'Value': np.random.randint(1, 100, 20)\n",
        "})\n",
        "print(\"Original DataFrame:\")\n",
        "print(df.head())\n",
        "\n",
        "pivot_table = df.pivot_table(values='Value', index='Date', columns='Category', aggfunc='sum')\n",
        "print(\"\\nPivot Table (sum of Value by Date and Category):\")\n",
        "print(pivot_table)\n"
      ]
    },
    {
      "cell_type": "code",
      "execution_count": 17,
      "metadata": {
        "colab": {
          "base_uri": "https://localhost:8080/"
        },
        "id": "O4900UX010U9",
        "outputId": "8be2711f-8eea-4072-82e2-7e725fe6a870"
      },
      "outputs": [
        {
          "name": "stdout",
          "output_type": "stream",
          "text": [
            "Original DataFrame:\n",
            "    Year Quarter  Revenue\n",
            "0   2022      Q4       24\n",
            "1   2021      Q2      926\n",
            "2   2020      Q3      446\n",
            "3   2020      Q3      618\n",
            "4   2020      Q3      373\n",
            "5   2022      Q3      815\n",
            "6   2022      Q1      936\n",
            "7   2020      Q3      528\n",
            "8   2021      Q2      697\n",
            "9   2021      Q1      326\n",
            "10  2021      Q3      567\n",
            "11  2021      Q1      196\n",
            "\n",
            "Pivot Table (mean Revenue by Year and Quarter):\n",
            "Quarter     Q1     Q2      Q3    Q4\n",
            "Year                               \n",
            "2020       NaN    NaN  491.25   NaN\n",
            "2021     261.0  811.5  567.00   NaN\n",
            "2022     936.0    NaN  815.00  24.0\n"
          ]
        }
      ],
      "source": [
        "#Example 8.2: Pivot Table for Revenue by Year and Quarter\n",
        "df = pd.DataFrame({\n",
        "    'Year': np.random.choice([2020, 2021, 2022], 12),\n",
        "    'Quarter': np.random.choice(['Q1', 'Q2', 'Q3', 'Q4'], 12),\n",
        "    'Revenue': np.random.randint(1, 1000, 12)\n",
        "})\n",
        "print(\"Original DataFrame:\")\n",
        "print(df)\n",
        "\n",
        "pivot_table = df.pivot_table(values='Revenue', index='Year', columns='Quarter', aggfunc='mean')\n",
        "print(\"\\nPivot Table (mean Revenue by Year and Quarter):\")\n",
        "print(pivot_table)\n"
      ]
    },
    {
      "cell_type": "markdown",
      "metadata": {
        "id": "9R2zqzdhCvoV"
      },
      "source": [
        "##Assignment 9: Applying Functions\n",
        "Concept: Use `.apply()`, `.applymap()` to apply custom or lambda functions on **DataFrame elements or rows**.\n",
        "\n",
        "**Example 9.1:** Double All Values\n",
        "\n",
        "**Example 9.2:** Sum Rows to Create New Column\n",
        "\n",
        "Use Cases:\n",
        "- Feature engineering\n",
        "- Data transformation\n",
        "\n"
      ]
    },
    {
      "cell_type": "code",
      "execution_count": 19,
      "metadata": {
        "colab": {
          "base_uri": "https://localhost:8080/"
        },
        "id": "97WaQy5bCskU",
        "outputId": "85cc5807-859d-4feb-b4f0-8de37c2c7eb9"
      },
      "outputs": [
        {
          "name": "stdout",
          "output_type": "stream",
          "text": [
            "Original DataFrame:\n",
            "    A   B   C\n",
            "0  93  28  55\n",
            "1  99  39  18\n",
            "2   3  43  73\n",
            "3  85  39  36\n",
            "4  60  39  84\n",
            "\n",
            "Doubled DataFrame:\n",
            "     A   B    C\n",
            "0  186  56  110\n",
            "1  198  78   36\n",
            "2    6  86  146\n",
            "3  170  78   72\n",
            "4  120  78  168\n"
          ]
        },
        {
          "name": "stderr",
          "output_type": "stream",
          "text": [
            "/tmp/ipython-input-2620452029.py:6: FutureWarning: DataFrame.applymap has been deprecated. Use DataFrame.map instead.\n",
            "  df_doubled = df.applymap(lambda x: x * 2)\n"
          ]
        }
      ],
      "source": [
        "#Example 9.1: Double All Values\n",
        "df = pd.DataFrame(np.random.randint(1, 100, (5, 3)), columns=['A', 'B', 'C'])\n",
        "print(\"Original DataFrame:\")\n",
        "print(df)\n",
        "\n",
        "df_doubled = df.applymap(lambda x: x * 2)\n",
        "print(\"\\nDoubled DataFrame:\")\n",
        "print(df_doubled)"
      ]
    },
    {
      "cell_type": "code",
      "execution_count": 20,
      "metadata": {
        "colab": {
          "base_uri": "https://localhost:8080/"
        },
        "id": "kF35n44C2k7N",
        "outputId": "0cb96609-46b4-47b4-aa92-4c78dcf4304b"
      },
      "outputs": [
        {
          "name": "stdout",
          "output_type": "stream",
          "text": [
            "Original DataFrame:\n",
            "    A   B   C\n",
            "0  23  94  69\n",
            "1   7  23  20\n",
            "2  72  94  37\n",
            "3  46  94  96\n",
            "4  55  77  22\n",
            "5  42  59   7\n",
            "\n",
            "DataFrame with Sum column:\n",
            "    A   B   C  Sum\n",
            "0  23  94  69  186\n",
            "1   7  23  20   50\n",
            "2  72  94  37  203\n",
            "3  46  94  96  236\n",
            "4  55  77  22  154\n",
            "5  42  59   7  108\n"
          ]
        }
      ],
      "source": [
        "#Example 9.2: Sum Rows to Create New Column\n",
        "df = pd.DataFrame(np.random.randint(1, 100, (6, 3)), columns=['A', 'B', 'C'])\n",
        "print(\"Original DataFrame:\")\n",
        "print(df)\n",
        "\n",
        "df['Sum'] = df.apply(lambda row: row.sum(), axis=1)\n",
        "print(\"\\nDataFrame with Sum column:\")\n",
        "print(df)"
      ]
    },
    {
      "cell_type": "markdown",
      "metadata": {
        "id": "n3PeImAHCwZ9"
      },
      "source": [
        "##Assignment 10: Working with Text Data\n",
        "Concept: Pandas Series supports **vectorized string operations** with `.str` accessor.\n",
        "\n",
        "**Example 10.1:** Convert Text to Uppercase\n",
        "\n",
        "**Example 10.2:** Extract First Three Characters\n",
        "\n",
        "Use Cases:\n",
        "- **Text data cleaning**\n",
        "- Creating features from text"
      ]
    },
    {
      "cell_type": "code",
      "execution_count": 22,
      "metadata": {
        "colab": {
          "base_uri": "https://localhost:8080/"
        },
        "id": "Kko8S9s13Rk9",
        "outputId": "d7370712-cd8b-4ccb-c0f9-dda4d8228ad2"
      },
      "outputs": [
        {
          "name": "stdout",
          "output_type": "stream",
          "text": [
            "Original Series:\n",
            "0         apple\n",
            "1        banana\n",
            "2        cherry\n",
            "3          date\n",
            "4    elderberry\n",
            "dtype: object\n",
            "\n",
            "Uppercase Series:\n",
            "0         APPLE\n",
            "1        BANANA\n",
            "2        CHERRY\n",
            "3          DATE\n",
            "4    ELDERBERRY\n",
            "dtype: object\n"
          ]
        }
      ],
      "source": [
        "#Example 10.1: Convert Text to Uppercase\n",
        "text_data = pd.Series(['apple', 'banana', 'cherry', 'date', 'elderberry'])\n",
        "print(\"Original Series:\")\n",
        "print(text_data)\n",
        "\n",
        "uppercase_data = text_data.str.upper()\n",
        "print(\"\\nUppercase Series:\")\n",
        "print(uppercase_data)\n"
      ]
    },
    {
      "cell_type": "code",
      "execution_count": 24,
      "metadata": {
        "colab": {
          "base_uri": "https://localhost:8080/"
        },
        "id": "Gss0WNfACsg9",
        "outputId": "fc1d410e-f4f8-42a4-c357-dec4ba112421"
      },
      "outputs": [
        {
          "name": "stdout",
          "output_type": "stream",
          "text": [
            "Original Series:\n",
            "0         apple\n",
            "1        banana\n",
            "2        cherry\n",
            "3          date\n",
            "4    elderberry\n",
            "dtype: object\n",
            "\n",
            "First three characters of each string:\n",
            "0    app\n",
            "1    ban\n",
            "2    che\n",
            "3    dat\n",
            "4    eld\n",
            "dtype: object\n"
          ]
        }
      ],
      "source": [
        "#Example 10.2: Extract First Three Characters\n",
        "text_data = pd.Series(['apple', 'banana', 'cherry', 'date', 'elderberry'])\n",
        "print(\"Original Series:\")\n",
        "print(text_data)\n",
        "\n",
        "first_three_chars = text_data.str[:3]\n",
        "print(\"\\nFirst three characters of each string:\")\n",
        "print(first_three_chars)"
      ]
    },
    {
      "cell_type": "markdown",
      "metadata": {
        "id": "_uaudldiCw1I"
      },
      "source": [
        "##Pandas Assignments — Use Cases & Learning Journey\n",
        "\n",
        "**Motivation**\n",
        "\n",
        "Data is everywhere, but **raw data is often messy and hard to understand**. Pandas is lets you **clean, transform, and analyze data quickly**. These assignments take you step-by-step from basic table creation to advanced manipulations.\n",
        "\n",
        "\n",
        "---\n",
        "##**Assignments → Use Cases**\n",
        "\n",
        "Assignment 1 → Create DataFrames and set indexes → Organize data with meaningful row labels for quick lookup.\n",
        "\n",
        "Assignment 2 → Perform DataFrame operations → Calculate totals, averages, and transformations to extract insights.\n",
        "\n",
        "Assignment 3 → Clean missing data → Fill gaps or remove incomplete records to make data reliable.\n",
        "\n",
        "Assignment 4 → Group and aggregate data → Summarize by categories (e.g., total sales per region).\n",
        "\n",
        "Assignment 5 → Merge DataFrames → Combine multiple datasets for a complete view of information.\n",
        "\n",
        "Assignment 6 → Analyze time series → Understand trends, patterns, and seasonality over time.\n",
        "\n",
        "Assignment 7 → Use MultiIndex DataFrames → Work with hierarchical data for complex grouping and slicing.\n",
        "\n",
        "Assignment 8 → Create pivot tables → Generate quick summaries across multiple dimensions.\n",
        "\n",
        "Assignment 9 → Apply functions to columns → Transform or enrich data with custom logic.\n",
        "\n",
        "Assignment 10 → Process text data → Clean and extract useful information from text for analysis.\n",
        "\n",
        "---\n",
        "\n",
        "###**Challenges Faced**\n",
        "\n",
        "- **Understanding Pandas syntax** → Initially confusing due to many methods that look similar.\n",
        "\n",
        "- **Chaining operations** → Writing multiple transformations in one line can be hard to read on other Resources\n",
        "\n",
        "- **Indexing confusion** → Distinguishing `.loc`, .`iloc`, and Boolean indexing takes practice.\n",
        "\n",
        "- **Merging mismatched data** → Key columns may not align perfectly, causing unexpected results.\n",
        "\n",
        "- **Time series indexing** → Dates must be properly parsed and set as an index to work correctly.\n",
        "\n",
        "---\n",
        "##***Summary Notes***\n",
        "- Pandas is powerful for tabular data manipulation.\n",
        "\n",
        "- Indexing and grouping enable complex queries and aggregation.\n",
        "\n",
        "- Handling missing data is critical for analysis.\n",
        "\n",
        "- Time series and hierarchical indexing extend Pandas' flexibility.\n",
        "\n",
        "- Applying functions unlocks custom transformations.\n",
        "\n",
        "- Working with text is seamless with `.str` methods."
      ]
    }
  ],
  "metadata": {
    "colab": {
      "provenance": []
    },
    "kernelspec": {
      "display_name": "Python 3",
      "name": "python3"
    },
    "language_info": {
      "name": "python"
    }
  },
  "nbformat": 4,
  "nbformat_minor": 0
}
